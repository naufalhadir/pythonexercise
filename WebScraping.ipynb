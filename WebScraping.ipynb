{
 "cells": [
  {
   "cell_type": "code",
   "execution_count": 96,
   "metadata": {},
   "outputs": [
    {
     "data": {
      "text/plain": [
       "'C:\\\\Users\\\\ramad\\\\OneDrive\\\\Documents\\\\GitHub\\\\pythonexercise'"
      ]
     },
     "execution_count": 96,
     "metadata": {},
     "output_type": "execute_result"
    }
   ],
   "source": [
    "import os\n",
    "os.getcwd()"
   ]
  },
  {
   "cell_type": "code",
   "execution_count": 95,
   "metadata": {
    "collapsed": true
   },
   "outputs": [],
   "source": [
    "os.chdir('C:\\\\Users\\\\ramad\\\\OneDrive\\\\Documents\\\\GitHub\\\\pythonexercise')"
   ]
  },
  {
   "cell_type": "code",
   "execution_count": 1,
   "metadata": {},
   "outputs": [
    {
     "name": "stdout",
     "output_type": "stream",
     "text": [
      "Requirement already satisfied: beautifulsoup4 in c:\\users\\ramad\\anaconda3\\lib\\site-packages\n"
     ]
    }
   ],
   "source": [
    "!pip install beautifulsoup4"
   ]
  },
  {
   "cell_type": "code",
   "execution_count": 2,
   "metadata": {
    "collapsed": true
   },
   "outputs": [],
   "source": [
    "from bs4 import BeautifulSoup as bs"
   ]
  },
  {
   "cell_type": "code",
   "execution_count": 3,
   "metadata": {},
   "outputs": [
    {
     "name": "stdout",
     "output_type": "stream",
     "text": [
      "Collecting urllib3\n",
      "  Downloading urllib3-1.22-py2.py3-none-any.whl (132kB)\n",
      "Installing collected packages: urllib3\n",
      "Successfully installed urllib3-1.22\n"
     ]
    }
   ],
   "source": [
    "!pip install urllib3"
   ]
  },
  {
   "cell_type": "code",
   "execution_count": 4,
   "metadata": {
    "collapsed": true
   },
   "outputs": [],
   "source": [
    "import urllib.request as ureq"
   ]
  },
  {
   "cell_type": "code",
   "execution_count": 15,
   "metadata": {},
   "outputs": [],
   "source": [
    "r = ureq.urlopen(\"https://www.rottentomatoes.com/franchise/batman_movies/\")"
   ]
  },
  {
   "cell_type": "code",
   "execution_count": 17,
   "metadata": {},
   "outputs": [
    {
     "data": {
      "text/plain": [
       "http.client.HTTPResponse"
      ]
     },
     "execution_count": 17,
     "metadata": {},
     "output_type": "execute_result"
    }
   ],
   "source": [
    "type(r)"
   ]
  },
  {
   "cell_type": "code",
   "execution_count": 18,
   "metadata": {
    "collapsed": true
   },
   "outputs": [],
   "source": [
    "soup = bs(r, \"lxml\")"
   ]
  },
  {
   "cell_type": "code",
   "execution_count": 12,
   "metadata": {},
   "outputs": [
    {
     "data": {
      "text/plain": [
       "bs4.BeautifulSoup"
      ]
     },
     "execution_count": 12,
     "metadata": {},
     "output_type": "execute_result"
    }
   ],
   "source": [
    "type(soup)"
   ]
  },
  {
   "cell_type": "code",
   "execution_count": 20,
   "metadata": {
    "scrolled": true
   },
   "outputs": [
    {
     "data": {
      "text/plain": [
       "143793"
      ]
     },
     "execution_count": 20,
     "metadata": {},
     "output_type": "execute_result"
    }
   ],
   "source": [
    "len(str(soup.prettify()))"
   ]
  },
  {
   "cell_type": "code",
   "execution_count": 22,
   "metadata": {
    "collapsed": true
   },
   "outputs": [],
   "source": [
    "a = str(soup.prettify())"
   ]
  },
  {
   "cell_type": "code",
   "execution_count": 27,
   "metadata": {},
   "outputs": [
    {
     "data": {
      "text/plain": [
       "79956"
      ]
     },
     "execution_count": 27,
     "metadata": {},
     "output_type": "execute_result"
    }
   ],
   "source": [
    "a.find('''class=\"meter-value\"''')"
   ]
  },
  {
   "cell_type": "code",
   "execution_count": null,
   "metadata": {},
   "outputs": [],
   "source": []
  },
  {
   "cell_type": "code",
   "execution_count": 51,
   "metadata": {},
   "outputs": [
    {
     "data": {
      "text/plain": [
       "[<div class=\"title\">\n",
       " <h3>\n",
       " <span style=\"background-color:white\">From the Critics</span>\n",
       " </h3>\n",
       " </div>, <div class=\"title\">\n",
       " <strong>\n",
       " <a href=\"/m/the_lego_batman_movie\">The Lego Batman Movie</a>\n",
       " <span class=\"subtle\">(2017)</span>\n",
       " </strong>\n",
       " </div>, <div class=\"title\">\n",
       " <strong>\n",
       " <a href=\"/m/batman_v_superman_dawn_of_justice\">Batman v Superman: Dawn of Justice</a>\n",
       " <span class=\"subtle\">(2016)</span>\n",
       " </strong>\n",
       " </div>, <div class=\"title\">\n",
       " <strong>\n",
       " <a href=\"/m/the_dark_knight_rises\">The Dark Knight Rises</a>\n",
       " <span class=\"subtle\">(2012)</span>\n",
       " </strong>\n",
       " </div>, <div class=\"title\">\n",
       " <strong>\n",
       " <a href=\"/m/the_dark_knight\">The Dark Knight</a>\n",
       " <span class=\"subtle\">(2008)</span>\n",
       " </strong>\n",
       " </div>, <div class=\"title\">\n",
       " <strong>\n",
       " <a href=\"/m/batman_begins\">Batman Begins</a>\n",
       " <span class=\"subtle\">(2005)</span>\n",
       " </strong>\n",
       " </div>, <div class=\"title\">\n",
       " <strong>\n",
       " <a href=\"/m/1077027-batman_and_robin\">Batman &amp; Robin</a>\n",
       " <span class=\"subtle\">(1997)</span>\n",
       " </strong>\n",
       " </div>, <div class=\"title\">\n",
       " <strong>\n",
       " <a href=\"/m/batman_forever\">Batman Forever</a>\n",
       " <span class=\"subtle\">(1995)</span>\n",
       " </strong>\n",
       " </div>, <div class=\"title\">\n",
       " <strong>\n",
       " <a href=\"/m/batman_mask_of_the_phantasm\">Batman: Mask Of The Phantasm</a>\n",
       " <span class=\"subtle\">(1993)</span>\n",
       " </strong>\n",
       " </div>, <div class=\"title\">\n",
       " <strong>\n",
       " <a href=\"/m/batman_returns\">Batman Returns</a>\n",
       " <span class=\"subtle\">(1992)</span>\n",
       " </strong>\n",
       " </div>, <div class=\"title\">\n",
       " <strong>\n",
       " <a href=\"/m/1001781-batman\">Batman</a>\n",
       " <span class=\"subtle\">(1989)</span>\n",
       " </strong>\n",
       " </div>, <div class=\"title\">\n",
       " <strong>\n",
       " <a href=\"/m/batman_the_movie\">Batman: The Movie</a>\n",
       " <span class=\"subtle\">(1966)</span>\n",
       " </strong>\n",
       " </div>]"
      ]
     },
     "execution_count": 51,
     "metadata": {},
     "output_type": "execute_result"
    }
   ],
   "source": [
    "titles = soup.find_all(\"div\", class_=\"title\")\n",
    "titles"
   ]
  },
  {
   "cell_type": "code",
   "execution_count": null,
   "metadata": {},
   "outputs": [],
   "source": []
  },
  {
   "cell_type": "code",
   "execution_count": null,
   "metadata": {},
   "outputs": [],
   "source": []
  },
  {
   "cell_type": "code",
   "execution_count": 50,
   "metadata": {},
   "outputs": [
    {
     "data": {
      "text/plain": [
       "'The Lego Batman Movie'"
      ]
     },
     "execution_count": 50,
     "metadata": {},
     "output_type": "execute_result"
    }
   ],
   "source": [
    "titles[1].strong.a.text"
   ]
  },
  {
   "cell_type": "code",
   "execution_count": 69,
   "metadata": {},
   "outputs": [
    {
     "data": {
      "text/plain": [
       "'\\n                                                    91%\\n                                                '"
      ]
     },
     "execution_count": 69,
     "metadata": {},
     "output_type": "execute_result"
    }
   ],
   "source": [
    "ratings = soup.find_all(\"span\", class_=\"meter-value\")\n",
    "ratings\n",
    "ratings[1].text"
   ]
  },
  {
   "cell_type": "code",
   "execution_count": 93,
   "metadata": {},
   "outputs": [
    {
     "name": "stdout",
     "output_type": "stream",
     "text": [
      "The Lego Batman Movie (2017) \n",
      "                                                    91%\n",
      "                                                 \n",
      "                                                        80%\n",
      "                                                    \n",
      "Batman v Superman: Dawn of Justice (2016) \n",
      "                                                    27%\n",
      "                                                 \n",
      "                                                        63%\n",
      "                                                    \n",
      "The Dark Knight Rises (2012) \n",
      "                                                    87%\n",
      "                                                 \n",
      "                                                        90%\n",
      "                                                    \n",
      "The Dark Knight (2008) \n",
      "                                                    94%\n",
      "                                                 \n",
      "                                                        94%\n",
      "                                                    \n",
      "Batman Begins (2005) \n",
      "                                                    84%\n",
      "                                                 \n",
      "                                                        94%\n",
      "                                                    \n",
      "Batman & Robin (1997) \n",
      "                                                    10%\n",
      "                                                 \n",
      "                                                        16%\n",
      "                                                    \n",
      "Batman Forever (1995) \n",
      "                                                    40%\n",
      "                                                 \n",
      "                                                        33%\n",
      "                                                    \n",
      "Batman: Mask Of The Phantasm (1993) \n",
      "                                                    82%\n",
      "                                                 \n",
      "                                                        88%\n",
      "                                                    \n",
      "Batman Returns (1992) \n",
      "                                                    81%\n",
      "                                                 \n",
      "                                                        73%\n",
      "                                                    \n",
      "Batman (1989) \n",
      "                                                    72%\n",
      "                                                 \n",
      "                                                        84%\n",
      "                                                    \n"
     ]
    }
   ],
   "source": [
    "for i in range(1,11):\n",
    "    name = titles[i].strong.a.text\n",
    "    rate1 = ratings[2*i - 1].text\n",
    "    rate2 = ratings[2*i].text\n",
    "    year = years[4*i - 4].text\n",
    "    print(name, year, rate1, rate2)"
   ]
  },
  {
   "cell_type": "code",
   "execution_count": 41,
   "metadata": {},
   "outputs": [
    {
     "data": {
      "text/plain": [
       "11"
      ]
     },
     "execution_count": 41,
     "metadata": {},
     "output_type": "execute_result"
    }
   ],
   "source": [
    "len(titles0)"
   ]
  },
  {
   "cell_type": "code",
   "execution_count": 92,
   "metadata": {},
   "outputs": [
    {
     "data": {
      "text/plain": [
       "'(2016)'"
      ]
     },
     "execution_count": 92,
     "metadata": {},
     "output_type": "execute_result"
    }
   ],
   "source": [
    "years = soup.find_all(\"span\", class_=\"subtle\")\n",
    "years[4].text"
   ]
  },
  {
   "cell_type": "code",
   "execution_count": null,
   "metadata": {
    "collapsed": true
   },
   "outputs": [],
   "source": []
  }
 ],
 "metadata": {
  "kernelspec": {
   "display_name": "Python 3",
   "language": "python",
   "name": "python3"
  },
  "language_info": {
   "codemirror_mode": {
    "name": "ipython",
    "version": 3
   },
   "file_extension": ".py",
   "mimetype": "text/x-python",
   "name": "python",
   "nbconvert_exporter": "python",
   "pygments_lexer": "ipython3",
   "version": "3.6.1"
  }
 },
 "nbformat": 4,
 "nbformat_minor": 2
}
